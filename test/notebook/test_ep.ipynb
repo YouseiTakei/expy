{
 "cells": [
  {
   "cell_type": "code",
   "execution_count": 11,
   "metadata": {
    "ExecuteTime": {
     "end_time": "2019-01-31T11:18:11.768609Z",
     "start_time": "2019-01-31T11:17:56.986007Z"
    },
    "slideshow": {
     "slide_type": "slide"
    }
   },
   "outputs": [
    {
     "ename": "ModuleNotFoundError",
     "evalue": "No module named 'expy'",
     "output_type": "error",
     "traceback": [
      "\u001b[1;31m---------------------------------------------------------------------------\u001b[0m",
      "\u001b[1;31mModuleNotFoundError\u001b[0m                       Traceback (most recent call last)",
      "\u001b[1;32m<ipython-input-11-721843c23ab2>\u001b[0m in \u001b[0;36m<module>\u001b[1;34m\u001b[0m\n\u001b[0;32m     12\u001b[0m \u001b[1;32mfrom\u001b[0m \u001b[0mpyperclip\u001b[0m \u001b[1;32mimport\u001b[0m \u001b[0mpaste\u001b[0m\u001b[1;33m\u001b[0m\u001b[1;33m\u001b[0m\u001b[0m\n\u001b[0;32m     13\u001b[0m \u001b[1;33m\u001b[0m\u001b[0m\n\u001b[1;32m---> 14\u001b[1;33m \u001b[1;32mimport\u001b[0m \u001b[0mexpy\u001b[0m \u001b[1;32mas\u001b[0m \u001b[0mep\u001b[0m\u001b[1;33m\u001b[0m\u001b[1;33m\u001b[0m\u001b[0m\n\u001b[0m\u001b[0;32m     15\u001b[0m \u001b[1;32mimport\u001b[0m \u001b[0mimportlib\u001b[0m\u001b[1;33m\u001b[0m\u001b[1;33m\u001b[0m\u001b[0m\n\u001b[0;32m     16\u001b[0m \u001b[0mimportlib\u001b[0m\u001b[1;33m.\u001b[0m\u001b[0mreload\u001b[0m\u001b[1;33m(\u001b[0m\u001b[0mep\u001b[0m\u001b[1;33m)\u001b[0m\u001b[1;33m\u001b[0m\u001b[1;33m\u001b[0m\u001b[0m\n",
      "\u001b[1;31mModuleNotFoundError\u001b[0m: No module named 'expy'"
     ]
    }
   ],
   "source": [
    "#Setting------------------------------------------------------------------------\n",
    "import math\n",
    "import numpy as np\n",
    "import pandas as pd\n",
    "import scipy\n",
    "import matplotlib.pyplot as plt\n",
    "\n",
    "import time\n",
    "import datetime as dt\n",
    "import pyperclip\n",
    "from pyperclip import copy\n",
    "from pyperclip import paste\n",
    "\n",
    "import expy as ep\n",
    "import importlib\n",
    "importlib.reload(ep)\n",
    "\n",
    "def p(a,b=''):print(b+'>>'+str(a))\n",
    "    \n",
    "import sympy as sym\n",
    "from sympy import init_printing\n",
    "from sympy import sqrt,sin,cos,tan,exp,log,diff\n",
    "init_printing()\n",
    "(a_,b_,c_,d_,e_,\n",
    " f_,g_,h_,i_,j_,\n",
    " k_,l_,m_,n_,o_,\n",
    " p_,q_,r_,s_,t_,\n",
    " u_,v_,w_,x_,y_,\n",
    " z_) = sym.symbols('a b c d e f g h i j k l m n o p q r s t u v w x y z')\n",
    "(A_,B_,C_,D_,E_,\n",
    " F_,G_,H_,I_,J_,\n",
    " K_,L_,M_,N_,O_,\n",
    " P_,Q_,R_,S_,T_,\n",
    " U_,V_,W_,X_,Y_,\n",
    " Z_) = sym.symbols('A B C D E F G H I J K L M N O P Q R S T U V W X Y Z')\n",
    "oo_,pi_ = sym.oo,sym.pi\n",
    "lamda_, theta_, gamma_, Omega= sym.symbols('lamda theta gamma Omega')\n",
    "\n",
    "oo,pi = sym.oo,sym.pi\n",
    "\n",
    "#from latexfile import LatexFile\n",
    "#from IPython.core.debugger import Pdb; Pdb().set_trace()"
   ]
  },
  {
   "cell_type": "markdown",
   "metadata": {
    "slideshow": {
     "slide_type": "slide"
    }
   },
   "source": [
    "# 0.システム   \n",
    "|関数名                   |内容                                                     |\n",
    "|:------------------------|:--------------------------------------------------------|\n",
    "|to_multi_d( func,data,   |関数を多次元化させる                                     |\n",
    "|            is_list,     |def func://例                                            |\n",
    "|            data2=None,  |    def func_unit(d):return **処理**                     |\n",
    "|            is_none=None)|    func=lambda d:func_unit(d)                           |\n",
    "|                         |    return to_multi_d(func,data,1)                       |"
   ]
  },
  {
   "cell_type": "code",
   "execution_count": 2,
   "metadata": {
    "ExecuteTime": {
     "end_time": "2019-01-31T11:18:11.800447Z",
     "start_time": "2019-01-31T11:18:11.772193Z"
    }
   },
   "outputs": [
    {
     "name": "stdout",
     "output_type": "stream",
     "text": [
      "Series_to_arr>>[1, 2, 3]\n",
      "DFrame_to_arr>>[[1, 2], [10, 20]]\n"
     ]
    }
   ],
   "source": [
    "def to_list(data):\n",
    "    if type(data) is  type(pd.Series([])): \n",
    "        return data.values.tolist()\n",
    "    if type(data) is  type(pd.DataFrame([])):\n",
    "        return data.values.tolist()\n",
    "    if type(data) is  type(np.array([])): \n",
    "        return data.tolist()\n",
    "    else:\n",
    "        return data\n",
    "p( to_list(pd.Series([1,2,3])),'Series_to_arr' )\n",
    "p( to_list(pd.DataFrame([[1,2],[10,20]])),'DFrame_to_arr' )"
   ]
  },
  {
   "cell_type": "code",
   "execution_count": 3,
   "metadata": {
    "ExecuteTime": {
     "end_time": "2019-01-31T11:18:13.731478Z",
     "start_time": "2019-01-31T11:18:11.804987Z"
    }
   },
   "outputs": [
    {
     "data": {
      "text/html": [
       "<div>\n",
       "<style scoped>\n",
       "    .dataframe tbody tr th:only-of-type {\n",
       "        vertical-align: middle;\n",
       "    }\n",
       "\n",
       "    .dataframe tbody tr th {\n",
       "        vertical-align: top;\n",
       "    }\n",
       "\n",
       "    .dataframe thead th {\n",
       "        text-align: right;\n",
       "    }\n",
       "</style>\n",
       "<table border=\"1\" class=\"dataframe\">\n",
       "  <thead>\n",
       "    <tr style=\"text-align: right;\">\n",
       "      <th></th>\n",
       "      <th>0</th>\n",
       "      <th>1</th>\n",
       "      <th>2</th>\n",
       "      <th>3</th>\n",
       "      <th>4</th>\n",
       "    </tr>\n",
       "  </thead>\n",
       "  <tbody>\n",
       "    <tr>\n",
       "      <th>0</th>\n",
       "      <td>1</td>\n",
       "      <td>2</td>\n",
       "      <td>3</td>\n",
       "      <td>4</td>\n",
       "      <td>5</td>\n",
       "    </tr>\n",
       "    <tr>\n",
       "      <th>1</th>\n",
       "      <td>10</td>\n",
       "      <td>20</td>\n",
       "      <td>30</td>\n",
       "      <td>40</td>\n",
       "      <td>50</td>\n",
       "    </tr>\n",
       "  </tbody>\n",
       "</table>\n",
       "</div>"
      ],
      "text/plain": [
       "    0   1   2   3   4\n",
       "0   1   2   3   4   5\n",
       "1  10  20  30  40  50"
      ]
     },
     "metadata": {},
     "output_type": "display_data"
    },
    {
     "ename": "NameError",
     "evalue": "name 'to_multi_d' is not defined",
     "output_type": "error",
     "traceback": [
      "\u001b[1;31m---------------------------------------------------------------------------\u001b[0m",
      "\u001b[1;31mNameError\u001b[0m                                 Traceback (most recent call last)",
      "\u001b[1;32m<ipython-input-3-d350e8339423>\u001b[0m in \u001b[0;36m<module>\u001b[1;34m\u001b[0m\n\u001b[0;32m     11\u001b[0m     \u001b[1;32mreturn\u001b[0m \u001b[0mto_multi_d\u001b[0m\u001b[1;33m(\u001b[0m\u001b[0mfunc\u001b[0m\u001b[1;33m,\u001b[0m\u001b[0marr_in\u001b[0m\u001b[1;33m,\u001b[0m\u001b[1;36m1\u001b[0m\u001b[1;33m)\u001b[0m\u001b[1;33m\u001b[0m\u001b[1;33m\u001b[0m\u001b[0m\n\u001b[0;32m     12\u001b[0m \u001b[0marr\u001b[0m\u001b[1;33m=\u001b[0m\u001b[0mpd\u001b[0m\u001b[1;33m.\u001b[0m\u001b[0mDataFrame\u001b[0m\u001b[1;33m(\u001b[0m\u001b[1;33m[\u001b[0m\u001b[1;33m[\u001b[0m\u001b[1;36m1\u001b[0m\u001b[1;33m,\u001b[0m\u001b[1;36m2\u001b[0m\u001b[1;33m,\u001b[0m\u001b[1;36m3\u001b[0m\u001b[1;33m,\u001b[0m\u001b[1;36m4\u001b[0m\u001b[1;33m,\u001b[0m\u001b[1;36m5\u001b[0m\u001b[1;33m]\u001b[0m\u001b[1;33m,\u001b[0m\u001b[1;33m[\u001b[0m\u001b[1;36m10\u001b[0m\u001b[1;33m,\u001b[0m\u001b[1;36m20\u001b[0m\u001b[1;33m,\u001b[0m\u001b[1;36m30\u001b[0m\u001b[1;33m,\u001b[0m\u001b[1;36m40\u001b[0m\u001b[1;33m,\u001b[0m\u001b[1;36m50\u001b[0m\u001b[1;33m]\u001b[0m\u001b[1;33m]\u001b[0m\u001b[1;33m)\u001b[0m\u001b[1;33m;\u001b[0m\u001b[0mdisplay\u001b[0m\u001b[1;33m(\u001b[0m\u001b[0marr\u001b[0m\u001b[1;33m)\u001b[0m\u001b[1;33m\u001b[0m\u001b[1;33m\u001b[0m\u001b[0m\n\u001b[1;32m---> 13\u001b[1;33m \u001b[0mto_discrete\u001b[0m\u001b[1;33m(\u001b[0m\u001b[0marr\u001b[0m\u001b[1;33m)\u001b[0m\u001b[1;33m\u001b[0m\u001b[1;33m\u001b[0m\u001b[0m\n\u001b[0m",
      "\u001b[1;32m<ipython-input-3-d350e8339423>\u001b[0m in \u001b[0;36mto_discrete\u001b[1;34m(arr, method, axis)\u001b[0m\n\u001b[0;32m      9\u001b[0m     \u001b[0marr_in\u001b[0m\u001b[1;33m=\u001b[0m\u001b[0mto_list\u001b[0m\u001b[1;33m(\u001b[0m\u001b[0marr\u001b[0m\u001b[1;33m)\u001b[0m\u001b[1;33m\u001b[0m\u001b[1;33m\u001b[0m\u001b[0m\n\u001b[0;32m     10\u001b[0m     \u001b[0mfunc\u001b[0m\u001b[1;33m=\u001b[0m\u001b[1;32mlambda\u001b[0m \u001b[0marr\u001b[0m\u001b[1;33m:\u001b[0m\u001b[0m_to_discrete\u001b[0m\u001b[1;33m(\u001b[0m\u001b[0marr\u001b[0m\u001b[1;33m,\u001b[0m\u001b[0mmethod\u001b[0m\u001b[1;33m)\u001b[0m\u001b[1;33m\u001b[0m\u001b[1;33m\u001b[0m\u001b[0m\n\u001b[1;32m---> 11\u001b[1;33m     \u001b[1;32mreturn\u001b[0m \u001b[0mto_multi_d\u001b[0m\u001b[1;33m(\u001b[0m\u001b[0mfunc\u001b[0m\u001b[1;33m,\u001b[0m\u001b[0marr_in\u001b[0m\u001b[1;33m,\u001b[0m\u001b[1;36m1\u001b[0m\u001b[1;33m)\u001b[0m\u001b[1;33m\u001b[0m\u001b[1;33m\u001b[0m\u001b[0m\n\u001b[0m\u001b[0;32m     12\u001b[0m \u001b[0marr\u001b[0m\u001b[1;33m=\u001b[0m\u001b[0mpd\u001b[0m\u001b[1;33m.\u001b[0m\u001b[0mDataFrame\u001b[0m\u001b[1;33m(\u001b[0m\u001b[1;33m[\u001b[0m\u001b[1;33m[\u001b[0m\u001b[1;36m1\u001b[0m\u001b[1;33m,\u001b[0m\u001b[1;36m2\u001b[0m\u001b[1;33m,\u001b[0m\u001b[1;36m3\u001b[0m\u001b[1;33m,\u001b[0m\u001b[1;36m4\u001b[0m\u001b[1;33m,\u001b[0m\u001b[1;36m5\u001b[0m\u001b[1;33m]\u001b[0m\u001b[1;33m,\u001b[0m\u001b[1;33m[\u001b[0m\u001b[1;36m10\u001b[0m\u001b[1;33m,\u001b[0m\u001b[1;36m20\u001b[0m\u001b[1;33m,\u001b[0m\u001b[1;36m30\u001b[0m\u001b[1;33m,\u001b[0m\u001b[1;36m40\u001b[0m\u001b[1;33m,\u001b[0m\u001b[1;36m50\u001b[0m\u001b[1;33m]\u001b[0m\u001b[1;33m]\u001b[0m\u001b[1;33m)\u001b[0m\u001b[1;33m;\u001b[0m\u001b[0mdisplay\u001b[0m\u001b[1;33m(\u001b[0m\u001b[0marr\u001b[0m\u001b[1;33m)\u001b[0m\u001b[1;33m\u001b[0m\u001b[1;33m\u001b[0m\u001b[0m\n\u001b[0;32m     13\u001b[0m \u001b[0mto_discrete\u001b[0m\u001b[1;33m(\u001b[0m\u001b[0marr\u001b[0m\u001b[1;33m)\u001b[0m\u001b[1;33m\u001b[0m\u001b[1;33m\u001b[0m\u001b[0m\n",
      "\u001b[1;31mNameError\u001b[0m: name 'to_multi_d' is not defined"
     ]
    }
   ],
   "source": [
    "def to_discrete(arr,method=lambda a,b: b-a,axis=0):\n",
    "    if type(arr) is type(pd.DataFrame([]))and axis==0: \n",
    "        arr=arr.T\n",
    "    def _to_discrete(arr,method=lambda a,b: b-a):\n",
    "        arr_rslt=[np.NaN]\n",
    "        for i in range(len(arr)-1):\n",
    "            arr_rslt.append(method(arr[i],arr[i+1]))\n",
    "        return arr_rslt\n",
    "    arr_in=to_list(arr)\n",
    "    func=lambda arr:_to_discrete(arr,method)\n",
    "    return to_multi_d(func,arr_in,1)\n",
    "arr=pd.DataFrame([[1,2,3,4,5],[10,20,30,40,50]]);display(arr)\n",
    "to_discrete(arr)"
   ]
  },
  {
   "cell_type": "code",
   "execution_count": null,
   "metadata": {
    "ExecuteTime": {
     "end_time": "2019-01-31T11:18:13.736056Z",
     "start_time": "2019-01-31T11:17:57.495Z"
    }
   },
   "outputs": [],
   "source": [
    "#多次元化\n",
    "def to_multi_d(func,data,is_list,data2=None,is_none=None):\n",
    "    data = to_list(data)\n",
    "    #p(type(data),\"data_type\")\n",
    "    #p(is_list,\"is_list\")\n",
    "    def do(to_arr= 0):\n",
    "        if data is None:\n",
    "            return is_none\n",
    "        if to_arr==0 :\n",
    "            if data2 is None:\n",
    "                return func(data)\n",
    "            else:\n",
    "                return func(data,data2)\n",
    "        if to_arr==1:\n",
    "            if data2 is None:\n",
    "                return func([data])\n",
    "            else:\n",
    "                return func([data],[data2]) \n",
    "    def repeat():\n",
    "        #print(\"repeat-------------------start\")\n",
    "        output=[];\n",
    "        for i in range(len(data)):\n",
    "            if data2 is None:\n",
    "                output.append(to_multi_d(func,data[i],is_list,is_none))\n",
    "            else:\n",
    "                output.append(to_multi_d(func,data[i],is_list,data2[i],is_none))\n",
    "        #print(\"repeat-------------------end\")\n",
    "        return output\n",
    "    #1. 入力が数値の場合\n",
    "    if type(data) is not list:\n",
    "        if is_list==0: return do()\n",
    "        if is_list==1: return do(1)\n",
    "        else:p(\"not ? but 0\")\n",
    "    #2. 入力が配列の場合\n",
    "    if type(data) is     list:\n",
    "        if is_list==0:\n",
    "            return repeat()\n",
    "        elif is_list==1:\n",
    "            if type(data[0]) is not list: return do()\n",
    "            if type(data[0]) is     list: return repeat() \n",
    "        else:p(\"not ? but 1\")\n",
    "    else:return \"??\"\n",
    "test_func1 = lambda num    : [num] * num\n",
    "test_func2 = lambda array  : len(array)\n",
    "def multi_test_func1(data):\n",
    "    return to_multi_d (test_func1,data,0)#data should num\n",
    "def multi_test_func2(data):\n",
    "    return to_multi_d (test_func2,data,1)#data should list\n",
    "    \n",
    "def test(data):    \n",
    "    print(str(data))\n",
    "    p(multi_test_func1(data), '#===multi_test_func_1===#')\n",
    "    p(multi_test_func2(data), '#===multi_test_func_2===#')\n",
    "test(1)\n",
    "test([1,2])\n",
    "test([[1,2],[3,4]])\n",
    "test([[[1,2],[3,4]],[[5,6],[7,8]]])"
   ]
  },
  {
   "cell_type": "code",
   "execution_count": null,
   "metadata": {
    "ExecuteTime": {
     "end_time": "2019-01-31T11:18:13.739157Z",
     "start_time": "2019-01-31T11:17:57.502Z"
    }
   },
   "outputs": [],
   "source": [
    "def matplotlib_setup(name='test.jpg'):#dx,dy):\n",
    "    #描画設定\n",
    "    plt.rcParams['font.family'] ='sans-serif'#使用するフォント#元は'IPAPMincho'\n",
    "    plt.rcParams['mathtext.default'] = 'regular'\n",
    "\n",
    "    plt.rcParams['xtick.top'] = 'True'\n",
    "    plt.rcParams['ytick.right'] = 'True'\n",
    "\n",
    "    plt.rcParams['xtick.direction'] = 'in'#x軸の目盛線が内向き('in')か外向き('out')か双方向か('inout')\n",
    "    plt.rcParams['ytick.direction'] = 'in'#y軸の目盛線が内向き('in')か外向き('out')か双方向か('inout')\n",
    "    plt.rcParams['xtick.major.width'] = 1.0#x軸主目盛り線の線幅\n",
    "    plt.rcParams['ytick.major.width'] = 1.0#y軸主目盛り線の線幅\n",
    "    plt.rcParams['axes.grid'] = 'True'\n",
    "    plt.rcParams['axes.xmargin'] = '0' #'.05'\n",
    "    plt.rcParams['axes.ymargin'] = '.05'\n",
    "    plt.rcParams['axes.linewidth'] = 1.0# 軸の線幅edge linewidth。囲みの太さ\n",
    "    #plt.rcParams['savefig.facecolor'] = 'None'\n",
    "    #plt.rcParams['savefig.edgecolor'] = 'None'\n",
    "    plt.rcParams['savefig.bbox'] = 'tight'\n",
    "    plt.rcParams['font.size'] = 8 #フォントの大きさ\n",
    "    plt.rcParams['xtick.labelsize'] = 8 # 横軸のフォントサイズ\n",
    "    plt.rcParams['ytick.labelsize'] = 8 # 縦軸のフォントサイズ\n",
    "    \n",
    "def begin_plt():#by  \n",
    "    return plt.figure(figsize=(3.14,3.14))    #3.14 インチは約8cm\n",
    "    plt.gca().yaxis.set_major_formatter(plt.FormatStrFormatter('%.3f'))#y軸小数点以下3桁表示.軸の数値の桁数指定\n",
    "    plt.gca().xaxis.get_major_formatter().set_useOffset(False)#軸の数字にオフセット(+1.05e9 など)を使わずに表現\n",
    "    plt.gca().xaxis.get_major_formatter().set_useOffset(False)#軸の数字が整数になるようにする\n",
    "    plt.locator_params(axis='y',nbins=6)#軸目盛りの個数指定.y軸，6個以内\n",
    "    plt.gca().yaxis.set_tick_params(which='both', direction='in',bottom=True, top=True, left=True, right=True)#軸目盛りの向きおよび枠のどの位置はありにするかを指定\n",
    "def end_plt(figname='test.jpg'):\n",
    "    plt.tight_layout()#グラフが重ならず，設定した図のサイズ内に収まる。\n",
    "    plt.savefig(figname, dpi=600)\n",
    "    \n",
    "def mkdf(data,i=0,c=0):\n",
    "    df = []\n",
    "    if int(data[0,0]) == 0:\n",
    "        df =  pd.DataFrame(data[1:,1:],index=data[0,1:],columns=data[1:,0])\n",
    "    elif i == 1:\n",
    "        df = pd.DataFrame(data[:,1:],index=data[:,0],columns=None)\n",
    "    elif c == 1:\n",
    "        df = pd.DataFrame(data[1:,:],index=None,columns=data[0,:])\n",
    "    else: print('error')\n",
    "    return df"
   ]
  },
  {
   "cell_type": "code",
   "execution_count": null,
   "metadata": {
    "ExecuteTime": {
     "end_time": "2019-01-31T11:18:13.741518Z",
     "start_time": "2019-01-31T11:17:57.508Z"
    }
   },
   "outputs": [],
   "source": [
    "def reshape_to_df(arr,col_num,col=None): \n",
    "    ind = []\n",
    "    data=[]\n",
    "    for i in range(int(len(arr)/col_num)): \n",
    "        n1=i*col_num+1;print(n1)\n",
    "        n2=(i+1)*col_num\n",
    "        ind.append(str(n1)+'to'+str(n2));print(ind)\n",
    "        data.append([arr[n1-1: n2]]);print(data)\n",
    "    else: \n",
    "        n1 = int(len(arr)/col_num)*col_num+1;print(n1)\n",
    "        n2 = int(len(arr)/col_num+1)*col_num;print(n2)\n",
    "        ind.append(str(n1)+'to'+str(len(arr)));print(ind)\n",
    "        data.append([arr[n1-1:]]);print(data)\n",
    "    return pd.DataFrame(data,ind,col)\n",
    "reshape_to_df([1,2,3,4,5,6,7,8],3)"
   ]
  },
  {
   "cell_type": "code",
   "execution_count": null,
   "metadata": {},
   "outputs": [],
   "source": []
  },
  {
   "cell_type": "markdown",
   "metadata": {},
   "source": [
    "# 1.解析\n"
   ]
  },
  {
   "cell_type": "code",
   "execution_count": null,
   "metadata": {
    "ExecuteTime": {
     "end_time": "2019-01-31T11:18:13.743427Z",
     "start_time": "2019-01-31T11:17:57.537Z"
    },
    "scrolled": true
   },
   "outputs": [],
   "source": [
    "#mmからcmへ変換\n",
    "def mm_to_cm(a):func=lambda a:a/10;return to_multi_d(func,a,0)\n",
    "#cmからmmへ変換\n",
    "def cm_to_mm(a):func=lambda a:a*10;return to_multi_d(func,a,0)\n",
    "mm_to_cm(1)"
   ]
  },
  {
   "cell_type": "code",
   "execution_count": null,
   "metadata": {
    "ExecuteTime": {
     "end_time": "2019-01-31T11:18:13.745315Z",
     "start_time": "2019-01-31T11:17:57.543Z"
    }
   },
   "outputs": [],
   "source": [
    "#関数のすべての変数に値を代入\n",
    "def subs(func,sym,val):\n",
    "    for i in range(len(val)):\n",
    "        func = func.subs([(sym[i],val[i])])\n",
    "    return func\n",
    "subs(x_*y_**2*z_**3,[x_,y_,z_],[1,2,3])"
   ]
  },
  {
   "cell_type": "code",
   "execution_count": null,
   "metadata": {
    "ExecuteTime": {
     "end_time": "2019-01-31T11:18:13.748576Z",
     "start_time": "2019-01-31T11:17:57.549Z"
    }
   },
   "outputs": [],
   "source": [
    "#標準不確かさ計算 \n",
    "def STDEV(data):\n",
    "    def STDEV_unit(d):\n",
    "        #unit\n",
    "        ave = np.sum(d) / len(d)\n",
    "        siguma = 0\n",
    "        for i in range(len(d)):\n",
    "            siguma += math.pow(d[i] - ave, 2)\n",
    "        if len(d)<=1:\n",
    "            return 0\n",
    "        else:\n",
    "            output = math.sqrt( siguma / (len(d)-1) )\n",
    "            return output\n",
    "    func=lambda d:STDEV_unit(d)\n",
    "    return to_multi_d(func,data,1)\n",
    "p(STDEV(0),str(0))\n",
    "p(STDEV([1,2,3]),str([1,2,3]))\n",
    "p(STDEV([[4],[5,6],[7,8,9]]),str([[4],[5,6],[7,8,9]]))"
   ]
  },
  {
   "cell_type": "code",
   "execution_count": null,
   "metadata": {
    "ExecuteTime": {
     "end_time": "2019-01-31T11:18:13.751570Z",
     "start_time": "2019-01-31T11:17:57.555Z"
    }
   },
   "outputs": [],
   "source": [
    "#平均値の不確かさ計算 \n",
    "def uncrt(data):\n",
    "    def uncrt_unit (data): \n",
    "        output = STDEV(data) / math.sqrt(len(data))\n",
    "        return output\n",
    "    func=lambda d:uncrt_unit(d)\n",
    "    return to_multi_d(func,data,1)\n",
    "p(uncrt(0),str(0))\n",
    "p(uncrt([1,2,3]),str([1,2,3]))\n",
    "p(uncrt([[4],[5,6],[7,8,9]]),str([[4],[5,6],[7,8,9]]))"
   ]
  },
  {
   "cell_type": "code",
   "execution_count": null,
   "metadata": {
    "ExecuteTime": {
     "end_time": "2019-01-31T11:18:13.754560Z",
     "start_time": "2019-01-31T11:17:57.560Z"
    },
    "scrolled": true
   },
   "outputs": [],
   "source": [
    "#相対不確かさ\n",
    "def rlt_uncrt(data):\n",
    "    def rlt_uncrt_unit (data): \n",
    "        return uncrt(data) / np.mean(data)\n",
    "    func=lambda d:rlt_uncrt_unit(d)\n",
    "    return to_multi_d(func,data,1)\n",
    "p(rlt_uncrt(0),str(0))\n",
    "p(rlt_uncrt([1,2,3]),str([1,2,3]))\n",
    "p(rlt_uncrt([[4],[5,6],[7,8,9]]),str([[4],[5,6],[7,8,9]]))"
   ]
  },
  {
   "cell_type": "code",
   "execution_count": null,
   "metadata": {
    "ExecuteTime": {
     "end_time": "2019-01-31T11:18:13.757724Z",
     "start_time": "2019-01-31T11:17:57.565Z"
    }
   },
   "outputs": [],
   "source": [
    "def cul(data,p=0):\n",
    "    def cul_unit(data):\n",
    "        mean  = np.mean (data)\n",
    "        uncrt = ep.uncrt(data)\n",
    "        rslt  = ep.rslt(mean,uncrt)\n",
    "        rlt   = ep.rlt_uncrt(data)\n",
    "        #結果まとめ\n",
    "        cul = [mean, uncrt,rslt,rlt]\n",
    "        df_cul = pd.DataFrame(cul[2:],index=['rslt','rlt/%',])\n",
    "        if p==0:return cul\n",
    "        else:return pd.Series(data).describe().append(df_cul)\n",
    "    unit=lambda d:cul_unit(d)\n",
    "    return to_multi_d(unit,data,1)\n",
    "cul([340.02,340.42,337.83,337.95,337.79,333.94],0)\n",
    "\n",
    "S_C    =[0]*7      #初期化\n",
    "S_C[0] =[170]      #mm\n",
    "S_C[1] =[181,181.5]#mm\n",
    "S_C[2] =[192,192.5]#mm\n",
    "S_C[3] =[203,203.5]#mm\n",
    "S_C[4] =[214,214.5]#mm\n",
    "S_C[5] =[225,225]  #mm\n",
    "S_C[6] =[236]      #mm\n",
    "cul(S_C)"
   ]
  },
  {
   "cell_type": "code",
   "execution_count": null,
   "metadata": {
    "ExecuteTime": {
     "end_time": "2019-01-31T11:18:13.761008Z",
     "start_time": "2019-01-31T11:17:57.572Z"
    }
   },
   "outputs": [],
   "source": [
    "#二乗和平均\n",
    "def mean_sq(data):\n",
    "    def mean_sq_unit(data1,data2):\n",
    "        import math\n",
    "        synth = math.sqrt(math.pow(data1,2)+math.pow(data2,2))\n",
    "        return  synth\n",
    "    func=lambda d1,d2:mean_sq_unit(d1,d2)\n",
    "    synth = data[0]\n",
    "    for i in range(1,len(data)):\n",
    "        synth = to_multi_d(func,synth,0,data[i])\n",
    "    return synth\n",
    "p(mean_sq([3,4]),str([3,4]))\n",
    "p(mean_sq([[3,5,24,40,60],[4,12,25,41,61]]),str([[3,5,24,40,60],[4,12,25,41,61]]))"
   ]
  },
  {
   "cell_type": "code",
   "execution_count": null,
   "metadata": {
    "ExecuteTime": {
     "end_time": "2019-01-31T11:18:13.764377Z",
     "start_time": "2019-01-31T11:17:57.578Z"
    }
   },
   "outputs": [],
   "source": [
    "#sympy=>latex（値代入型）\n",
    "def sym_to_val_to_latex(func,sym_all=[],val_all=[],rm_all=[]):#sym, valは配列\n",
    "    #初期化\n",
    "    sym_str = []\n",
    "    if rm_all==[]:rm_all=['',]*len(sym_all)\n",
    "    for i in sym_all:\n",
    "        sym_str.append(sym.Symbol('[]'+str(i)+'[]'));\n",
    "    func_str = subs(func,sym_all,sym_str)#;print(1,func_str)\n",
    "    func_str = sym.latex(func_str)       #;print(2,func_str)\n",
    "    for i in range(len(sym_all)):\n",
    "        func_str=func_str.replace(str(sym.latex(sym_str[i])),\n",
    "                                  '('+str(ep.roundup(val_all[i],3))+r'\\mathrm{'+rm_all[i]+'}'+')')\n",
    "    return func_str\n",
    "print(sym_to_val_to_latex(x_*y_**2*z_**3/f_,[x_,y_,z_,f_],[3,2,1,99],['m','s','g','']))"
   ]
  },
  {
   "cell_type": "markdown",
   "metadata": {},
   "source": [
    "$\\frac{(3.0\\mathrm{m}) (2.0\\mathrm{s})^{2} (1.0\\mathrm{g})^{3}}{(99.0\\mathrm{})}$"
   ]
  },
  {
   "cell_type": "code",
   "execution_count": null,
   "metadata": {
    "ExecuteTime": {
     "end_time": "2019-01-31T11:18:13.767870Z",
     "start_time": "2019-01-31T11:17:57.597Z"
    },
    "scrolled": false
   },
   "outputs": [],
   "source": [
    "#合成不確かさ\n",
    "def syn_uncrt(func=sym.Symbol('f'),\n",
    "              uncrt_sym=[],\n",
    "              uncrt_all=[],\n",
    "              sym_all=[sym.Symbol('f')],\n",
    "              val_all=[0],\n",
    "              rm_all =[],   \n",
    "              arr=0):\n",
    "    def syn_uncrt_unit(uncrt_all=[],val_all=[0]):#偏微分用\n",
    "        #fはlen(uncrt_all)変数関数(いらない数値は代入しておく)\n",
    "        syn  = 0\n",
    "        partial_all      = []#各偏微分したSym    ：\n",
    "        all_sym_to_val   = []#各変数を代入したSym：         ：\n",
    "        uncrt_unit_all   = []#各計算したInt：1.0\n",
    "        def uncrt_to_unit_uncrt(u,sym):#不確かさuと対応する変数\n",
    "            df_dsym = diff(func,sym);\n",
    "            for i in range(len(sym_all)):\n",
    "                df_dsym=df_dsym.subs([(sym_all[i],val_all[i])] );\n",
    "            return u*float(df_dsym)\n",
    "        for i in range(len(uncrt_all)):\n",
    "            unit_uncrt= 0\n",
    "            unit_uncrt_sym = sym.Symbol(r'\\Delta '+str(uncrt_sym[i]))**2\n",
    "            unit_parcial = unit_uncrt_sym\n",
    "            if uncrt_sym[i] is None:\n",
    "                syn = mean_sq([syn,uncrt_all[i]])\n",
    "                unit_uncrt= uncrt_all[i]\n",
    "            else:\n",
    "                #print('--in',uncrt_sym[i],'=',uncrt_all[i],'---------------')\n",
    "                unit_uncrt= uncrt_to_unit_uncrt(uncrt_all[i],uncrt_sym[i])\n",
    "                unit_parcial = (diff(func,uncrt_sym[i]))**2  \n",
    "                unit_sym_to_val = sym_to_val_to_latex(unit_parcial,sym_all,val_all,rm_all)+'('+str(uncrt_all[i])+')^{2}'\n",
    "                unit_parcial = sym.latex(unit_parcial)+sym.latex(unit_uncrt_sym)\n",
    "                syn = mean_sq([syn,unit_uncrt])\n",
    "            partial_all.append(unit_parcial)\n",
    "            uncrt_unit_all.append(unit_uncrt)     \n",
    "            all_sym_to_val.append(unit_sym_to_val)\n",
    "        if arr==0:return syn\n",
    "        else     :return [syn,               #答え（合成不確かさ）\n",
    "                          partial_all,       #各偏微分したSym\n",
    "                          all_sym_to_val,    #各変数を代入したStr\n",
    "                          uncrt_unit_all]    #各計算したInt：1.0\n",
    "    unit=lambda u,v:syn_uncrt_unit(u,v)\n",
    "    return to_multi_d(unit,uncrt_all,1,val_all)\n",
    "\n",
    "#多次元化には対応していないので注意 \n",
    "theta_,T_ = sym.symbols('theta T')\n",
    "func_1_10 = 4*pi**2*h_*(1+2*r_**2/(5*h_**2)+theta_/8)/T_**2\n",
    "display(func_1_10)\n",
    "\n",
    "syn_uncrt(func_1_10,\n",
    "          [h_,theta_,r_,T_],\n",
    "          [1 ,1     ,1 ,1 ],\n",
    "          [h_,theta_,r_,T_],\n",
    "          [1 ,1     ,1 ,1 ],\n",
    "          ['m','rad','m','s'],1)"
   ]
  },
  {
   "cell_type": "markdown",
   "metadata": {},
   "source": [
    "$\\Delta h^2(4pi^2(theta/8 + 1 + 2r^2/(5h^2))/T^2 - 16pi^2r^2/(5T^2h^2))^2$aaaa\n",
    "aaa$ pi^4\\Delta theta^2h^2/(4T^4)$aaa\n",
    "aaa$256pi^4\\Delta r^2r^2/(25T^4h^2)$"
   ]
  },
  {
   "cell_type": "code",
   "execution_count": null,
   "metadata": {
    "ExecuteTime": {
     "end_time": "2019-01-31T11:18:13.770124Z",
     "start_time": "2019-01-31T11:17:57.617Z"
    }
   },
   "outputs": [],
   "source": [
    "def weighted_mean(mean_all, uncrt_all):\n",
    "    def weighted_uncrt_unit(mean_all, uncrt_all):\n",
    "        numer1 = mean_all / np.square(uncrt_all)\n",
    "        denom1 =     1 / np.square(uncrt_all)\n",
    "        mean  = np.sum(numer1) / np.sum(denom1)\n",
    "        denom2 = 1 / np.square(uncrt_all)\n",
    "        uncrt = 1 / np.sqrt(np.sum(denom2))\n",
    "        return mean, uncrt\n",
    "    func=lambda m,u:weighted_uncrt_unit(m,u)\n",
    "    return to_multi_d(func,mean_all,1,uncrt_all)\n",
    "\n",
    "weighted_mean([[0,1],[23,45]],[[0.6,0.7],[8,9]])"
   ]
  },
  {
   "cell_type": "markdown",
   "metadata": {},
   "source": [
    "# 2.表示"
   ]
  },
  {
   "cell_type": "code",
   "execution_count": null,
   "metadata": {
    "ExecuteTime": {
     "end_time": "2019-01-31T11:18:13.773498Z",
     "start_time": "2019-01-31T11:17:57.638Z"
    }
   },
   "outputs": [],
   "source": [
    "def roundup(x,dig):\n",
    "    func=lambda x:(math.ceil(x*(10**dig))) / (10**dig)\n",
    "    return to_multi_d(func,x,0)\n",
    "p(roundup([[1.11,2.22],3.33],1),str([[[1.11,2.22],3.33],1]))"
   ]
  },
  {
   "cell_type": "code",
   "execution_count": null,
   "metadata": {
    "ExecuteTime": {
     "end_time": "2019-01-31T11:18:13.776499Z",
     "start_time": "2019-01-31T11:17:57.642Z"
    }
   },
   "outputs": [],
   "source": [
    "def rounder(x,dig):\n",
    "    func=lambda x:round(x,dig)\n",
    "    return to_multi_d(func,x,0)\n",
    "p(rounder([[5.55,5.55],5.55],1),str([[5.55,5.55],5.55])+','+str(1))"
   ]
  },
  {
   "cell_type": "code",
   "execution_count": null,
   "metadata": {
    "ExecuteTime": {
     "end_time": "2019-01-31T11:18:13.779424Z",
     "start_time": "2019-01-31T11:17:57.645Z"
    }
   },
   "outputs": [],
   "source": [
    "def num_dig(x):\n",
    "    def num_dig_unit(x):\n",
    "        y = abs(x)+abs(x)*0.0000000000001\n",
    "        if y>=1 : return  math.floor(math.log10(y))\n",
    "        if 1>y>0: return -math.floor(math.log10(1/y)+1)\n",
    "        if y==0 : return  0\n",
    "    func=lambda x:num_dig_unit(x)\n",
    "    return to_multi_d(func,x,is_list=0)\n",
    "p(num_dig(0),str(0))\n",
    "p(num_dig([50,[5,0.5],0.05]),str([5,[0.5,0.05],0.005]))"
   ]
  },
  {
   "cell_type": "code",
   "execution_count": null,
   "metadata": {
    "ExecuteTime": {
     "end_time": "2019-01-31T11:18:13.787509Z",
     "start_time": "2019-01-31T11:17:57.650Z"
    }
   },
   "outputs": [],
   "source": [
    "def rslt(mean,uncrt):\n",
    "    def roundup(x,dig):return (math.ceil(x*(10**dig))) / (10**dig)\n",
    "    def rslt_unit(mean,uncrt):\n",
    "        dig = -num_dig(uncrt)\n",
    "        return str(round(mean, dig)) + \"±\" + str(roundup(uncrt,dig))\n",
    "    func=lambda m,u: rslt_unit(m,u)\n",
    "    return to_multi_d(func,mean,0,uncrt)\n",
    "p(rslt(10,1),str(10)+','+str(1))\n",
    "p(rslt([[1.11,1.11],1.11],[[5,0.5],0.05]),str([[1.11,1.11],1.11])+','+str([[5,0.5],0.05]))"
   ]
  },
  {
   "cell_type": "markdown",
   "metadata": {},
   "source": [
    "# $\\LaTeX{}$"
   ]
  },
  {
   "cell_type": "markdown",
   "metadata": {},
   "source": [
    "### setting"
   ]
  },
  {
   "cell_type": "code",
   "execution_count": 97,
   "metadata": {
    "ExecuteTime": {
     "end_time": "2019-01-31T12:26:03.158185Z",
     "start_time": "2019-01-31T12:26:02.210717Z"
    }
   },
   "outputs": [
    {
     "name": "stdout",
     "output_type": "stream",
     "text": [
      "\\frac{x}{y}\n"
     ]
    },
    {
     "data": {
      "image/png": "[encoded data removed]",
      "text/plain": [
       "<Figure size 72x36 with 1 Axes>"
      ]
     },
     "metadata": {
      "needs_background": "light"
     },
     "output_type": "display_data"
    },
    {
     "name": "stdout",
     "output_type": "stream",
     "text": [
      "\\begin{align*}\n",
      "\\omega_{0}\n"
     ]
    },
    {
     "data": {
      "image/png": "[encoded data removed]",
      "text/plain": [
       "<Figure size 72x36 with 1 Axes>"
      ]
     },
     "metadata": {
      "needs_background": "light"
     },
     "output_type": "display_data"
    },
    {
     "name": "stdout",
     "output_type": "stream",
     "text": [
      "&=\\frac{1}{\\sqrt{C L}}\\\\\n"
     ]
    },
    {
     "data": {
      "image/png": "[encoded data removed]",
      "text/plain": [
       "<Figure size 72x36 with 1 Axes>"
      ]
     },
     "metadata": {
      "needs_background": "light"
     },
     "output_type": "display_data"
    },
    {
     "name": "stdout",
     "output_type": "stream",
     "text": [
      "&=\\frac{1}{\\sqrt{150.54\\mathrm{\\Omega }\\times 4.7\\mathrm{nF}}}\\\\\n"
     ]
    },
    {
     "data": {
      "image/png": "[encoded data removed]",
      "text/plain": [
       "<Figure size 72x36 with 1 Axes>"
      ]
     },
     "metadata": {
      "needs_background": "light"
     },
     "output_type": "display_data"
    },
    {
     "name": "stdout",
     "output_type": "stream",
     "text": [
      "&=1188.8446704135583\\mathrm{rad/s}\\\\\n"
     ]
    },
    {
     "data": {
      "image/png": "[encoded data removed]",
      "text/plain": [
       "<Figure size 72x36 with 1 Axes>"
      ]
     },
     "metadata": {
      "needs_background": "light"
     },
     "output_type": "display_data"
    },
    {
     "name": "stdout",
     "output_type": "stream",
     "text": [
      "&=1.188\\times 10^3\\mathrm{rad/s}\\\\\n"
     ]
    },
    {
     "data": {
      "image/png": "[encoded data removed]",
      "text/plain": [
       "<Figure size 72x36 with 1 Axes>"
      ]
     },
     "metadata": {
      "needs_background": "light"
     },
     "output_type": "display_data"
    },
    {
     "name": "stdout",
     "output_type": "stream",
     "text": [
      "\\end{align*}\n"
     ]
    }
   ],
   "source": [
    "def print_latex(text):\n",
    "    latex=text.replace('\\t','').split('\\n')\n",
    "    h = len(latex)\n",
    "    for i in range(len(latex)): \n",
    "        t=latex[i];print(t)\n",
    "        if not('begin'in t or 'end' in t):\n",
    "            plt.figure(figsize=(1, 0.5))\n",
    "            if '&=' in t: \n",
    "                t=t.replace('&=','').replace('\\\\\\\\','')\n",
    "                plt.text(0,1,str(i+1)+'>>\\t\\t=  $'+t+r'$',size='25',va='center',alpha=0.9)\n",
    "            else: \n",
    "                plt.text(0,1,str(i+1)+'>>$'+t+r'$',size='25',va='center',alpha=0.9)\n",
    "            plt.axis('off')\n",
    "            plt.show()\n",
    "text = '\\\\begin{align*}\\n\\t\\\\omega_{0}\\n\\t&=\\\\frac{1}{\\\\sqrt{C L}}\\\\\\\\\\n\\t&=\\\\frac{1}{\\\\sqrt{150.54\\\\mathrm{\\\\Omega }\\\\times 4.7\\\\mathrm{nF}}}\\\\\\\\\\n\\t&=1188.8446704135583\\\\mathrm{rad/s}\\\\\\\\\\n\\t&=1.188\\\\times 10^3\\\\mathrm{rad/s}\\\\\\\\\\n\\t\\\\end{align*}'\n",
    "print_latex(r'\\frac{x}{y}')\n",
    "print_latex(text)"
   ]
  },
  {
   "cell_type": "code",
   "execution_count": 94,
   "metadata": {
    "ExecuteTime": {
     "end_time": "2019-01-31T12:24:35.863575Z",
     "start_time": "2019-01-31T12:24:35.856593Z"
    }
   },
   "outputs": [],
   "source": [
    "begin1 = r'\\begin{align*}'+'\\n'+'\\t'#there is x\n",
    "begin2 = ' &='                         #there is func\n",
    "newln  = r'\\\\'+'\\n' + '\\t\\t&='\n",
    "end1   = r'\\mathrm{'                   #there is rm\n",
    "end2   = r'}\\\\'+'\\n\\t'+r'\\label{'      #there is label\n",
    "end3   = '}'+'\\n\\t'+r'\\end{align*}'"
   ]
  },
  {
   "cell_type": "code",
   "execution_count": null,
   "metadata": {
    "ExecuteTime": {
     "end_time": "2019-01-31T11:18:13.797845Z",
     "start_time": "2019-01-31T11:17:57.676Z"
    },
    "hide_input": false,
    "scrolled": true
   },
   "outputs": [],
   "source": [
    "#基本型\n",
    "def to_latex(s='%%',answer=0, x='%%', rm='%%',p=0,label=''):\n",
    "    tex = begin1+x+begin2+ s +newln+ str(answer) +end1+rm+end2+label+end3\n",
    "    print('')\n",
    "    plt.show()\n",
    "    if p!=0: print(tex);return tex\n",
    "    else:     copy(tex);return tex\n",
    "to_latex('\\\\frac{1}{10}',0.1,'x','cm',0,'')"
   ]
  },
  {
   "cell_type": "code",
   "execution_count": null,
   "metadata": {
    "ExecuteTime": {
     "end_time": "2019-01-31T11:18:13.802035Z",
     "start_time": "2019-01-31T11:17:57.680Z"
    }
   },
   "outputs": [],
   "source": [
    "def align_latex(unit=[],label='',p=0,s=''):\n",
    "    tex=''\n",
    "    for i in range(len(unit)):\n",
    "        if i!=0:tex+='='\n",
    "        tex +=sym.latex(unit[i])\n",
    "    begin = r'\\begin{align}'+'\\n\\t'\n",
    "    end   = '\\n\\t'+'\\label{'+label+'}'+'\\n\\t'+r'\\end{align}'\n",
    "    tex = begin + tex + s + end\n",
    "    if p!=0: print(tex);return tex\n",
    "    else:     copy(tex);return tex"
   ]
  },
  {
   "cell_type": "code",
   "execution_count": null,
   "metadata": {
    "ExecuteTime": {
     "end_time": "2019-01-31T11:18:13.804690Z",
     "start_time": "2019-01-31T11:17:57.684Z"
    }
   },
   "outputs": [],
   "source": [
    "align_latex([a_*a_+b_*b_,c_*c_,25],'a,b,c',0,'(a,b,cは自然数)')"
   ]
  },
  {
   "cell_type": "markdown",
   "metadata": {},
   "source": [
    "\\begin{align}\n",
    "\ta^{2} + b^{2}=c^{2}=25(a,b,cは自然数)\n",
    "\t\\label{a,b,c}\n",
    "\t\\end{align}"
   ]
  },
  {
   "cell_type": "code",
   "execution_count": null,
   "metadata": {
    "ExecuteTime": {
     "end_time": "2019-01-31T11:18:13.806709Z",
     "start_time": "2019-01-31T11:17:57.703Z"
    }
   },
   "outputs": [],
   "source": [
    "def align_asta_latex(unit=[],p=0): \n",
    "    tex=''\n",
    "    for i in range(len(unit)):\n",
    "        if i!=0:tex+='\\n\\t&='\n",
    "        tex +=sym.latex(unit[i])\n",
    "        if i!=0:tex+=r'\\\\'\n",
    "    tex = r'\\begin{align*}'+'\\n\\t'+tex+'\\n\\t'+r'\\end{align*}'\n",
    "    if p!=0: print(tex);return tex\n",
    "    else:     copy(tex);return    "
   ]
  },
  {
   "cell_type": "code",
   "execution_count": null,
   "metadata": {
    "ExecuteTime": {
     "end_time": "2019-01-31T11:18:13.809181Z",
     "start_time": "2019-01-31T11:17:57.707Z"
    }
   },
   "outputs": [],
   "source": [
    "R_L_,omega_1_,omega_2_,f_0_,f_1_,Omega_= sym.symbols('R_L,omega_1,omega_2,f_0 f_1 Omega_')\n",
    "\n",
    "align_asta_latex([gamma_,(R_+R_L_+50*Omega_)/(2* L_),\n",
    "                 r'\\frac{130.37\\cdot \\Omega +68.15+\\Omega +50\\Omega }{2\\cdot 72.34}',\n",
    "                 '1717.7rad/s',\n",
    "                 '1.718* 10^3'],0)"
   ]
  },
  {
   "cell_type": "markdown",
   "metadata": {},
   "source": [
    "\\begin{align*}\n",
    "\t\\gamma\n",
    "\t&=\\frac{50 \\Omega_{} + R + R_{L}}{2 L}\\\\\n",
    "\t&=\\frac{130.37\\cdot \\Omega +68.15+\\Omega +50\\Omega }{2\\cdot 72.34}\\\\\n",
    "\t&=1717.7rad/s\\\\\n",
    "\t&=1.718* 10^3\\\\\n",
    "\t\\end{align*}"
   ]
  },
  {
   "cell_type": "code",
   "execution_count": null,
   "metadata": {
    "ExecuteTime": {
     "end_time": "2019-01-31T11:18:13.812087Z",
     "start_time": "2019-01-31T11:17:57.727Z"
    }
   },
   "outputs": [],
   "source": [
    "#分数型\n",
    "def frac_to_latex(denom,numer, answer=0, x='%%', rm='%%',p=0,label=''):\n",
    "    return to_latex(r'\\frac{'+denom+'}{'+numer+'}', answer, x,rm,p,label)\n",
    "frac_to_latex('1','10', 0.1, 'x', 'cm',1)"
   ]
  },
  {
   "cell_type": "markdown",
   "metadata": {},
   "source": [
    "\\begin{eqnarray*}\n",
    "\tx&=&\\frac{1}{10}\\\\\n",
    "\t\t&=&0.1\\mathrm{cm}\\\\\n",
    "\\end{eqnarray*}"
   ]
  },
  {
   "cell_type": "code",
   "execution_count": null,
   "metadata": {
    "ExecuteTime": {
     "end_time": "2019-01-31T11:18:13.817219Z",
     "start_time": "2019-01-31T11:17:57.745Z"
    }
   },
   "outputs": [],
   "source": [
    "def mean_to_latex(data, x='%%', rm='%%',p=0,label=''):\n",
    "    denom =  ''\n",
    "    for i in range(len(data)):\n",
    "        if i != 0:denom=denom+'+'\n",
    "        denom += str(data[i])+rm\n",
    "    #LaTeX作成\n",
    "    return frac_to_latex(denom,str(len(data)), np.mean(data), x, rm,p,label)\n",
    "data = np.random.rand(10)\n",
    "data =rounder(data,1)\n",
    "mean_to_latex(data,'x','cm',1)"
   ]
  },
  {
   "cell_type": "markdown",
   "metadata": {},
   "source": [
    "\\begin{eqnarray*}\n",
    "\tx&=&\\frac{0.0cm+0.2cm+0.2cm+0.3cm+0.6cm+0.3cm+0.1cm+0.2cm+0.5cm+0.9cm}{10}\\\\\n",
    "\t\t&=&0.32999999999999996\\mathrm{cm}\\\\\n",
    "\\end{eqnarray*}"
   ]
  },
  {
   "cell_type": "code",
   "execution_count": null,
   "metadata": {
    "ExecuteTime": {
     "end_time": "2019-01-31T11:18:13.820584Z",
     "start_time": "2019-01-31T11:17:57.762Z"
    }
   },
   "outputs": [],
   "source": [
    "def uncrt_to_latex(data, x='%%', rm='%%',p=0,label=''):\n",
    "    N=len(data);m=np.mean(data);u=uncrt(data)\n",
    "    #LaTeX作成\n",
    "    s = r'\\sqrt{\\frac{1}{'+str(N)+r'\\cdot'+str(N-1)+r'}\\sum_{i=1}^'+str(N)+'('+x+'_i-'+str(m)+')^2}'\n",
    "    return to_latex(s, uncrt(data), 'Δ'+x,rm,p,label)"
   ]
  },
  {
   "cell_type": "code",
   "execution_count": null,
   "metadata": {
    "ExecuteTime": {
     "end_time": "2019-01-31T11:18:13.823126Z",
     "start_time": "2019-01-31T11:17:57.766Z"
    }
   },
   "outputs": [],
   "source": [
    "def weighted_mean_to_latex(mean_all, uncrt_all, x='%%', rm='%%',p=0,label=''):\n",
    "    denom = ''#分子\n",
    "    numer = ''#分母\n",
    "    for i in range(len(mean_all)):\n",
    "        denom += r'\\frac{'+str(mean_all[i])+'}{('+str(uncrt_all[i])+')^2}'\n",
    "        numer += r'\\frac{1}{('+str(uncrt_all[i])+')^2}' \n",
    "        if i != len(mean_all)-1: \n",
    "            denom += '+'\n",
    "            numer += '+'\n",
    "    #LaTeX作成\n",
    "    return frac_to_latex(denom,numer,weighted_mean(mean_all,uncrt_all),x,rm,p,label)"
   ]
  },
  {
   "cell_type": "code",
   "execution_count": null,
   "metadata": {
    "ExecuteTime": {
     "end_time": "2019-01-31T11:18:13.828132Z",
     "start_time": "2019-01-31T11:17:57.770Z"
    }
   },
   "outputs": [],
   "source": [
    "def mean_sq_to_latex(data, x='%%', rm='%%',p=0,label=''):\n",
    "    denom =  ''\n",
    "    for i in range(len(data)):\n",
    "        if i != 0:denom=denom+'+'\n",
    "        denom+= '('+str(data[i])+')^{2}'\n",
    "    #LaTeX作成\n",
    "    return to_latex(r'\\sqrt{'+denom+'}', mean_sq(data), x, rm,p,label)\n",
    "data = np.random.rand(10)\n",
    "data =rounder(data,3)\n",
    "mean_sq_to_latex(data,'x','cm',0)"
   ]
  },
  {
   "cell_type": "markdown",
   "metadata": {},
   "source": [
    "\\begin{eqnarray*}\n",
    "\tx&=&\\sqrt{(0.117)^{2}+(0.647)^{2}+(0.957)^{2}+(0.764)^{2}+(0.949)^{2}+(0.183)^{2}+(0.505)^{2}+(0.535)^{2}+(0.885)^{2}+(0.66)^{2}}\\\\\n",
    "\t\t&=&2.150815659232562\\mathrm{cm}\\\\\n",
    "\\end{eqnarray*}"
   ]
  },
  {
   "cell_type": "code",
   "execution_count": null,
   "metadata": {
    "ExecuteTime": {
     "end_time": "2019-01-31T11:18:13.834455Z",
     "start_time": "2019-01-31T11:17:57.792Z"
    },
    "code_folding": [
     0,
     32
    ],
    "scrolled": true
   },
   "outputs": [],
   "source": [
    "def syn_uncrt_to_latex(func=sym.Symbol('f'),\n",
    "                       uncrt_sym=[],\n",
    "                       uncrt_all=[],\n",
    "                       sym_all=[sym.Symbol('f')],\n",
    "                       uncrt_unit_all=[0],\n",
    "                       rm_all =[],\n",
    "                       x='%%',rm='%%',p=0,label=''):\n",
    "    ans,partial_all,all_sym_to_val,uncrt_unit_all = syn_uncrt(func,uncrt_sym,uncrt_all,\n",
    "                                                                      sym_all,uncrt_unit_all,rm_all,1)\n",
    "    print([partial_all,'<<<>>>',all_sym_to_val,'<<<>>>',uncrt_unit_all])\n",
    "    func1 = ''#各偏微分しそうな二乗和平均\n",
    "    func2 = ''#各偏微分した二乗和平均\n",
    "    func3 = ''#各変数を代入した二乗和平均\n",
    "    func4 = ''#各計算したInt二乗和平均\n",
    "    for i in range(len(uncrt_all)):\n",
    "        if i!=0:func1=func1+'+';func2=func2+'+';func3=func3+'+';func4=func4+'+'\n",
    "        diff_denom=sym.Symbol(r'\\partial '+x)\n",
    "        diff_numor=sym.Symbol(r'\\partial '+str(uncrt_sym[i]))\n",
    "        func1 = func1 + '('+sym.latex(diff_denom/diff_numor)+')^{2}'+r'\\Delta '+str(uncrt_sym[i])+'^2'\n",
    "        func2 = func2 + partial_all[i]\n",
    "        func3 = func3 + all_sym_to_val[i]\n",
    "        func4 = func4 + '('+str(uncrt_unit_all[i])+')^{2}'\n",
    "    else:\n",
    "        func1 = r'\\sqrt{'+func1+'}'\n",
    "        func2 = r'\\sqrt{'+func2+'}'\n",
    "        func3 = r'\\sqrt{'+func3+'}'\n",
    "        func4 = r'\\sqrt{'+func4+'}'\n",
    "    #for i in range(len(uncrt_unit_all)):\n",
    "    return to_latex(func1+'\\n'+r'\\\\'+'\\n\\t&='+func2+'\\n'+r'\\\\'+'\\n\\t&='+func3+'\\n'+r'\\\\'+'\\n\\t&='+func4,ans,r'\\Delta '+x,rm,p,label)\n",
    "    \n",
    "S_S_0        = sym.Symbol(r'(S-S_0)');func_6_6    = g_*l_*l_*l_*d_*m_/(2*a_*a_*a_*b_*r_*S_S_0)\n",
    "display(func_6_6)\n",
    "print(syn_uncrt_to_latex(func_6_6,\n",
    "                   [d_,g_,m_],\n",
    "                   [6,8,0],\n",
    "                   [d_,g_,l_,m_,S_S_0,a_,b_,r_],\n",
    "                   [1 ,1 ,1, 1, 1    ,1 ,1 ,1 ],\n",
    "                   ['d','g','l','m','s','a','b','r'],\n",
    "                   'E','Pa',0))"
   ]
  },
  {
   "cell_type": "markdown",
   "metadata": {},
   "source": [
    "\\begin{align*}\n",
    "\t\\Delta E &=\\sqrt{(\\frac{\\partial E}{\\partial d})^{2}\\Delta d^2+(\\frac{\\partial E}{\\partial g})^{2}\\Delta g^2+(\\frac{\\partial E}{\\partial m})^{2}\\Delta m^2}\n",
    "\\\\\n",
    "\t&=\\sqrt{\\frac{g^{2} l^{6} m^{2}}{4 (S-S_{0)}^{2} a^{6} b^{2} r^{2}}\\Delta d^{2}+\\frac{d^{2} l^{6} m^{2}}{4 (S-S_{0)}^{2} a^{6} b^{2} r^{2}}\\Delta g^{2}+\\frac{d^{2} g^{2} l^{6}}{4 (S-S_{0)}^{2} a^{6} b^{2} r^{2}}\\Delta m^{2}}\n",
    "\\\\\n",
    "\t&=\\sqrt{\\frac{(1.0\\mathrm{g})^{2} (1.0\\mathrm{l})^{6} (1.0\\mathrm{m})^{2}}{4 (1.0\\mathrm{s})^{2} (1.0\\mathrm{a})^{6} (1.0\\mathrm{b})^{2} (1.0\\mathrm{r})^{2}}(6)^{2}+\\frac{(1.0\\mathrm{d})^{2} (1.0\\mathrm{l})^{6} (1.0\\mathrm{m})^{2}}{4 (1.0\\mathrm{s})^{2} (1.0\\mathrm{a})^{6} (1.0\\mathrm{b})^{2} (1.0\\mathrm{r})^{2}}(8)^{2}+\\frac{(1.0\\mathrm{d})^{2} (1.0\\mathrm{g})^{2} (1.0\\mathrm{l})^{6}}{4 (1.0\\mathrm{s})^{2} (1.0\\mathrm{a})^{6} (1.0\\mathrm{b})^{2} (1.0\\mathrm{r})^{2}}(0)^{2}}\n",
    "\\\\\n",
    "\t&=\\sqrt{(3.0)^{2}+(4.0)^{2}+(0.0)^{2}}\\\\\n",
    "\t\t&=5.0\\mathrm{Pa}\\\\\n",
    "\t\\label{}\n",
    "\t\\end{align*}"
   ]
  },
  {
   "cell_type": "markdown",
   "metadata": {},
   "source": [
    "\\begin{eqnarray*}\n",
    "\t\\Delta E&=&\\sqrt{(\\frac{\\partial E}{\\partial d})^{2}\\partial d+(\\frac{\\partial E}{\\partial g})^{2}\\partial g+(\\frac{\\partial E}{\\partial m})^{2}\\partial m}\n",
    "\t&=&\\sqrt{\\frac{g^{2} l^{6} m^{2}}{4 (S-S_{0)}^{2} a^{6} b^{2} r^{2}}\\Delta d^{2}+\\frac{d^{2} l^{6} m^{2}}{4 (S-S_{0)}^{2} a^{6} b^{2} r^{2}}\\Delta g^{2}+\\frac{d^{2} g^{2} l^{6}}{4 (S-S_{0)}^{2} a^{6} b^{2} r^{2}}\\Delta m^{2}}\n",
    "\t&=&\\sqrt{\\frac{(1.0\\mathrm{g})^{2} (1.0\\mathrm{l})^{6} (1.0\\mathrm{m})^{2}}{4 (1.0\\mathrm{s})^{2} (1.0\\mathrm{a})^{6} (1.0\\mathrm{b})^{2} (1.0\\mathrm{r})^{2}}(6)^{2}+\\frac{(1.0\\mathrm{d})^{2} (1.0\\mathrm{l})^{6} (1.0\\mathrm{m})^{2}}{4 (1.0\\mathrm{s})^{2} (1.0\\mathrm{a})^{6} (1.0\\mathrm{b})^{2} (1.0\\mathrm{r})^{2}}(8)^{2}+\\frac{(1.0\\mathrm{d})^{2} (1.0\\mathrm{g})^{2} (1.0\\mathrm{l})^{6}}{4 (1.0\\mathrm{s})^{2} (1.0\\mathrm{a})^{6} (1.0\\mathrm{b})^{2} (1.0\\mathrm{r})^{2}}(0)^{2}}\n",
    "\t&=&\\sqrt{(3.0)^{2}+(4.0)^{2}+(0.0)^{2}}\\\\\n",
    "\t\t&=&5.0\\mathrm{Pa}\\\\\n",
    "\t\\label{}\n",
    "\\end{eqnarray*}"
   ]
  }
 ],
 "metadata": {
  "celltoolbar": "Slideshow",
  "hide_input": false,
  "kernelspec": {
   "display_name": "Python 3",
   "language": "python",
   "name": "python3"
  },
  "language_info": {
   "codemirror_mode": {
    "name": "ipython",
    "version": 3
   },
   "file_extension": ".py",
   "mimetype": "text/x-python",
   "name": "python",
   "nbconvert_exporter": "python",
   "pygments_lexer": "ipython3",
   "version": "3.7.3"
  },
  "latex_envs": {
   "LaTeX_envs_menu_present": true,
   "autoclose": false,
   "autocomplete": true,
   "bibliofile": "biblio.bib",
   "cite_by": "apalike",
   "current_citInitial": 1,
   "eqLabelWithNumbers": true,
   "eqNumInitial": 1,
   "hotkeys": {
    "equation": "Ctrl-E",
    "itemize": "Ctrl-I"
   },
   "labels_anchors": false,
   "latex_user_defs": false,
   "report_style_numbering": false,
   "user_envs_cfg": false
  },
  "toc": {
   "base_numbering": 1,
   "nav_menu": {},
   "number_sections": true,
   "sideBar": true,
   "skip_h1_title": false,
   "title_cell": "Table of Contents",
   "title_sidebar": "Contents",
   "toc_cell": false,
   "toc_position": {},
   "toc_section_display": true,
   "toc_window_display": false
  }
 },
 "nbformat": 4,
 "nbformat_minor": 2
}
